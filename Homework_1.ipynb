{
 "cells": [
  {
   "cell_type": "code",
   "execution_count": 11,
   "id": "d08c9fa2-b1be-480a-b6b9-dbd3e1a5cf8f",
   "metadata": {},
   "outputs": [],
   "source": [
    "class Test:\n",
    "    @staticmethod\n",
    "    def assert_equals(a, b, *args, **kwargs):\n",
    "        assert a == b\n",
    "        print('Passed')"
   ]
  },
  {
   "cell_type": "markdown",
   "id": "45d46df9-5edc-40c9-9e61-e063cc8bd43c",
   "metadata": {},
   "source": [
    "https://edabit.com/challenge/gt9LLufDCMHKMioh2 1 point"
   ]
  },
  {
   "cell_type": "code",
   "execution_count": 15,
   "id": "9813536b-99e8-43a2-943d-40430286c9ff",
   "metadata": {},
   "outputs": [],
   "source": [
    "def stutter(word):\n",
    "\treturn(word[0]+ word[1]+\"... \"+ word[0]+ word[1]+ \"... \"+word+ \"?\")"
   ]
  },
  {
   "cell_type": "code",
   "execution_count": 17,
   "id": "a6de702c-5747-441d-b8a8-7691d3c7fdc1",
   "metadata": {},
   "outputs": [
    {
     "name": "stdout",
     "output_type": "stream",
     "text": [
      "Passed\n",
      "Passed\n",
      "Passed\n",
      "Passed\n",
      "Passed\n",
      "Passed\n",
      "Passed\n",
      "Passed\n",
      "Passed\n",
      "Passed\n",
      "Passed\n",
      "Passed\n",
      "Passed\n",
      "Passed\n",
      "Passed\n",
      "Passed\n",
      "Passed\n",
      "Passed\n",
      "Passed\n"
     ]
    }
   ],
   "source": [
    "actual_param, expected_param = [\n",
    "\t\"increasing\", \"adventures\", \"enticing\", \"unacceptable\", \"accountable\", \"incredible\", \"exquisite\",\n",
    "\t\"am\", \"enduring\", \"outstanding\", \"astonishing\", \"astounding\", \"impressive\", \"revolutionize\",\n",
    "\t\"recurring\", \"recollection\", \"so\", \"gorgeous\", \"captivating\"\n",
    "], [\n",
    "\t\"in... in... increasing?\", \"ad... ad... adventures?\", \"en... en... enticing?\", \"un... un... unacceptable?\",\n",
    "    \"ac... ac... accountable?\", \"in... in... incredible?\", \"ex... ex... exquisite?\", \"am... am... am?\",\n",
    "    \"en... en... enduring?\", \"ou... ou... outstanding?\", \"as... as... astonishing?\", \"as... as... astounding?\",\n",
    "    \"im... im... impressive?\", \"re... re... revolutionize?\", \"re... re... recurring?\", \"re... re... recollection?\",\n",
    "    \"so... so... so?\", \"go... go... gorgeous?\", \"ca... ca... captivating?\",\n",
    "]\n",
    "for i, w in enumerate(actual_param):\n",
    "\tTest.assert_equals(stutter(w), expected_param[i])"
   ]
  },
  {
   "cell_type": "markdown",
   "id": "3e96255e-882f-45b2-8b1d-668d3ee5fc0d",
   "metadata": {},
   "source": [
    "https://edabit.com/challenge/8pDH2SRutPoaQghgc 1 point"
   ]
  },
  {
   "cell_type": "code",
   "execution_count": 19,
   "id": "486ae82d-5f5c-4fca-a69c-96d34ada190d",
   "metadata": {},
   "outputs": [],
   "source": [
    "def relation_to_luke(name):\n",
    "\tif (name==\"Darth Vader\"):\n",
    "\t\twho=\"father\"\n",
    "\telif (name==\"Leia\"):\n",
    "\t\twho=\"sister\"\n",
    "\telif (name==\"Han\"):\n",
    "\t\twho=\"brother in law\"\n",
    "\telif (name==\"R2D2\"):\n",
    "\t\twho=\"droid\"\n",
    "\treturn  \"Luke, I am your \"+who+\".\""
   ]
  },
  {
   "cell_type": "code",
   "execution_count": 21,
   "id": "493f6667-f64f-488e-a028-3f45be2ebde2",
   "metadata": {},
   "outputs": [
    {
     "name": "stdout",
     "output_type": "stream",
     "text": [
      "Passed\n",
      "Passed\n",
      "Passed\n",
      "Passed\n"
     ]
    }
   ],
   "source": [
    "Test.assert_equals(relation_to_luke(\"Darth Vader\"), \"Luke, I am your father.\")\n",
    "Test.assert_equals(relation_to_luke(\"Leia\"), \"Luke, I am your sister.\")\n",
    "Test.assert_equals(relation_to_luke(\"Han\"), \"Luke, I am your brother in law.\")\n",
    "Test.assert_equals(relation_to_luke(\"R2D2\"), \"Luke, I am your droid.\")\n"
   ]
  },
  {
   "cell_type": "markdown",
   "id": "5fb1acf7-ac4c-41a8-9f61-51c1f259a45f",
   "metadata": {},
   "source": [
    "https://edabit.com/challenge/2X2uZysLJ3CpsxLDD 1 point"
   ]
  },
  {
   "cell_type": "code",
   "execution_count": 23,
   "id": "3e4a5428-8267-4290-8226-688819719054",
   "metadata": {},
   "outputs": [],
   "source": [
    "from math import pi\n",
    "def radians_to_degrees(rad):\n",
    "\treturn round(rad*180/pi, 1)"
   ]
  },
  {
   "cell_type": "code",
   "execution_count": 25,
   "id": "8129d98e-6b49-45e5-baae-7eccdf7d3e55",
   "metadata": {},
   "outputs": [
    {
     "name": "stdout",
     "output_type": "stream",
     "text": [
      "Passed\n",
      "Passed\n",
      "Passed\n",
      "Passed\n",
      "Passed\n",
      "Passed\n"
     ]
    }
   ],
   "source": [
    "Test.assert_equals(radians_to_degrees(1), 57.3)\n",
    "Test.assert_equals(radians_to_degrees(5), 286.5)\n",
    "Test.assert_equals(radians_to_degrees(7), 401.1)\n",
    "Test.assert_equals(radians_to_degrees(60), 3437.7)\n",
    "Test.assert_equals(radians_to_degrees(100), 5729.6)\n",
    "Test.assert_equals(radians_to_degrees(180), 10313.2)"
   ]
  },
  {
   "cell_type": "markdown",
   "id": "a3b26a04-bd0c-4a2f-ab5b-7bc9e269cc3b",
   "metadata": {},
   "source": [
    "https://edabit.com/challenge/cXnkmRdxqJrwdsP4n 1 point"
   ]
  },
  {
   "cell_type": "code",
   "execution_count": 27,
   "id": "d7973760-3c40-4a5f-8298-643703fb47e1",
   "metadata": {},
   "outputs": [],
   "source": [
    "def dis(price, discount):\n",
    "\treturn round(price*(1-discount/100), 2)"
   ]
  },
  {
   "cell_type": "code",
   "execution_count": 29,
   "id": "cb64d6b5-5801-451e-9b16-db56fb8a9d27",
   "metadata": {},
   "outputs": [
    {
     "name": "stdout",
     "output_type": "stream",
     "text": [
      "Passed\n",
      "Passed\n",
      "Passed\n",
      "Passed\n",
      "Passed\n"
     ]
    }
   ],
   "source": [
    "Test.assert_equals(dis(100, 75), 25)\n",
    "Test.assert_equals(dis(211, 50), 105.5)\n",
    "Test.assert_equals(dis(593, 61), 231.27)\n",
    "Test.assert_equals(dis(1693, 80), 338.6)\n",
    "Test.assert_equals(dis(700, 10), 630)"
   ]
  },
  {
   "cell_type": "markdown",
   "id": "82254953-efcf-4107-aab8-b669269a3eb8",
   "metadata": {},
   "source": [
    "https://edabit.com/challenge/xRMQG4Sxewx5agDRr 2 points"
   ]
  },
  {
   "cell_type": "code",
   "execution_count": 31,
   "id": "0c7e0c9b-2f1b-46a6-b0a0-9456ae89511b",
   "metadata": {},
   "outputs": [],
   "source": [
    "def find_highest(lst):\n",
    "\tif len(lst)==1: \n",
    "\t\treturn lst[0]\n",
    "\tif lst[0]<lst[1]: \n",
    "\t\tdel lst[0]\n",
    "\t\treturn find_highest(lst)\n",
    "\telse:\n",
    "\t\tdel lst[1]\n",
    "\t\treturn find_highest(lst)"
   ]
  },
  {
   "cell_type": "code",
   "execution_count": 33,
   "id": "ac1b905c-b52e-40a5-884b-9972ad2b8b26",
   "metadata": {},
   "outputs": [
    {
     "name": "stdout",
     "output_type": "stream",
     "text": [
      "Passed\n",
      "Passed\n",
      "Passed\n"
     ]
    }
   ],
   "source": [
    "Test.assert_equals(find_highest([8]), 8)\n",
    "Test.assert_equals(find_highest([-1, 3, 5, 6, 99, 12, 2]), 99)\n",
    "Test.assert_equals(find_highest([0, 12, 4, 87]), 87)"
   ]
  },
  {
   "cell_type": "markdown",
   "id": "051e731b-398e-4e01-9c19-d499d0e54d9b",
   "metadata": {},
   "source": [
    "https://edabit.com/challenge/5XXXppAdfcGaootD9 2 points"
   ]
  },
  {
   "cell_type": "code",
   "execution_count": 35,
   "id": "2182ffcb-25a3-42de-a41d-1c18c9ba033e",
   "metadata": {},
   "outputs": [],
   "source": [
    "def sum_odd_and_even(lst):\n",
    "\treturn [sum(x for x in lst if x % 2 == 0), sum(x for x in lst if x % 2 == 1)]"
   ]
  },
  {
   "cell_type": "code",
   "execution_count": 37,
   "id": "9a5d2815-2987-4b74-8cb7-135bde7612dd",
   "metadata": {},
   "outputs": [
    {
     "name": "stdout",
     "output_type": "stream",
     "text": [
      "Passed\n",
      "Passed\n",
      "Passed\n",
      "Passed\n"
     ]
    }
   ],
   "source": [
    "Test.assert_equals(sum_odd_and_even([1, 2, 3, 4, 5, 6]), [12, 9])\n",
    "Test.assert_equals(sum_odd_and_even([-1, -2, -3, -4, -5, -6]), [-12, -9])\n",
    "Test.assert_equals(sum_odd_and_even([0, 0]), [0, 0])\n",
    "Test.assert_equals(sum_odd_and_even([]), [0, 0])"
   ]
  },
  {
   "cell_type": "markdown",
   "id": "3d6149f2-4e88-45b9-8475-9f62c6a2fb89",
   "metadata": {},
   "source": [
    "https://edabit.com/challenge/2zKetgAJp4WRFXiDT 2 points"
   ]
  },
  {
   "cell_type": "code",
   "execution_count": 39,
   "id": "fc97dd19-1c17-4155-b7c4-9c4ecc9a924c",
   "metadata": {},
   "outputs": [],
   "source": [
    "def number_length(num):\n",
    "\tcount=1\n",
    "\twhile num>=10:\n",
    "\t\tcount+=1\n",
    "\t\tnum=num//10\n",
    "\treturn count"
   ]
  },
  {
   "cell_type": "code",
   "execution_count": 41,
   "id": "42d48403-8361-45a2-9923-1b1394d3b42b",
   "metadata": {},
   "outputs": [
    {
     "name": "stdout",
     "output_type": "stream",
     "text": [
      "Passed\n",
      "Passed\n",
      "Passed\n",
      "Passed\n",
      "Passed\n",
      "Passed\n",
      "Passed\n"
     ]
    }
   ],
   "source": [
    "Test.assert_equals(number_length(10), 2)\n",
    "Test.assert_equals(number_length(5000), 4)\n",
    "Test.assert_equals(number_length(0), 1)\n",
    "Test.assert_equals(number_length(4039182), 7)\n",
    "Test.assert_equals(number_length(9999999999999999), 16)\n",
    "Test.assert_equals(number_length(1), 1)\n",
    "Test.assert_equals(number_length(777777777777777777777777777777), 30)"
   ]
  },
  {
   "cell_type": "markdown",
   "id": "278ad6ec-86fd-4469-a2f2-828108dcba1b",
   "metadata": {},
   "source": [
    "https://edabit.com/challenge/Cjtm4CpLzHDerQMfX 2 points"
   ]
  },
  {
   "cell_type": "code",
   "execution_count": 43,
   "id": "6cd1d4b6-c616-4ce5-872a-2784ce36174d",
   "metadata": {},
   "outputs": [],
   "source": [
    "world = 148940000\n",
    "def area_of_country(name, area):\n",
    "    percentage = area * 100 / world\n",
    "    return name + \" is \" + \"{:.2f}\".format(percentage) + \"% of the total world's landmass\""
   ]
  },
  {
   "cell_type": "code",
   "execution_count": 45,
   "id": "835ca4da-a076-44c1-98af-7b6a9a1773b2",
   "metadata": {},
   "outputs": [
    {
     "name": "stdout",
     "output_type": "stream",
     "text": [
      "Passed\n",
      "Passed\n",
      "Passed\n",
      "Passed\n",
      "Passed\n",
      "Passed\n",
      "Passed\n"
     ]
    }
   ],
   "source": [
    "Test.assert_equals(area_of_country(\"USA\", 9372610), \"USA is 6.29% of the total world's landmass\")\n",
    "Test.assert_equals(area_of_country(\"Russia\", 17098242), \"Russia is 11.48% of the total world's landmass\")\n",
    "Test.assert_equals(area_of_country(\"Iran\", 1648195), \"Iran is 1.11% of the total world's landmass\")\n",
    "Test.assert_equals(area_of_country(\"India\", 3287590), \"India is 2.21% of the total world's landmass\")\n",
    "Test.assert_equals(area_of_country(\"China\", 9706961), \"China is 6.52% of the total world's landmass\")\n",
    "Test.assert_equals(area_of_country(\"Yemen\", 527968), \"Yemen is 0.35% of the total world's landmass\")\n",
    "Test.assert_equals(area_of_country(\"Switzerland\", 41284), \"Switzerland is 0.03% of the total world's landmass\")"
   ]
  },
  {
   "cell_type": "markdown",
   "id": "39260b58-98cd-4281-a77e-b5cf47f7f6d9",
   "metadata": {},
   "source": [
    "https://edabit.com/challenge/peezjw73G8BBGfHdW 3 points"
   ]
  },
  {
   "cell_type": "code",
   "execution_count": 47,
   "id": "c1d267a6-86ef-46fa-a2ae-f7631654bbac",
   "metadata": {},
   "outputs": [],
   "source": [
    "def arithmetic_operation(n):\n",
    "\ti=0\n",
    "\tdigit1=\"\"\n",
    "\twhile n[i].isdigit():\n",
    "\t\tdigit1+=str(n[i])\n",
    "\t\ti+=1\n",
    "\ti+=1\n",
    "\toper=str(n[i])\n",
    "\ti+=2\n",
    "\tif (oper=='/'):\n",
    "\t\ti+=1\n",
    "\tdigit2=\"\"\n",
    "\twhile i<len(n)-1:\n",
    "\t\tdigit2+=str(n[i])\n",
    "\t\ti+=1\n",
    "\tdigit2+=str(n[i])\n",
    "\tif oper=='+':\n",
    "\t\treturn int(digit1)+int(digit2)\n",
    "\tif oper=='-':\n",
    "\t\treturn int(digit1)-int(digit2)\n",
    "\tif oper=='*':\n",
    "\t\treturn int(digit1)*int(digit2)\n",
    "\tif oper=='/':\n",
    "\t\tif int(digit2)==0:\n",
    "\t\t\treturn -1\n",
    "\t\treturn int(digit1)//int(digit2)"
   ]
  },
  {
   "cell_type": "code",
   "execution_count": 49,
   "id": "e0ee7ba0-cce1-4ed2-b3a1-ccaf22d0f0f6",
   "metadata": {},
   "outputs": [
    {
     "name": "stdout",
     "output_type": "stream",
     "text": [
      "Passed\n",
      "Passed\n",
      "Passed\n",
      "Passed\n",
      "Passed\n",
      "Passed\n",
      "Passed\n",
      "Passed\n"
     ]
    }
   ],
   "source": [
    "Test.assert_equals(arithmetic_operation(\"12 + 12\"), 24)\n",
    "Test.assert_equals(arithmetic_operation(\"22 - 12\"), 10)\n",
    "Test.assert_equals(arithmetic_operation(\"100 * 12\"), 1200)\n",
    "Test.assert_equals(arithmetic_operation(\"120 // 10\"), 12)\n",
    "Test.assert_equals(arithmetic_operation(\"122 // 0\"), -1)\n",
    "Test.assert_equals(arithmetic_operation(\"10 * 20\"), 200)\n",
    "Test.assert_equals(arithmetic_operation(\"10 - 10\"), 0)\n",
    "Test.assert_equals(arithmetic_operation(\"10 - 12\"), -2)"
   ]
  },
  {
   "cell_type": "code",
   "execution_count": null,
   "id": "15d1da98-7309-48e7-80a7-80c4cda1835b",
   "metadata": {},
   "outputs": [],
   "source": []
  }
 ],
 "metadata": {
  "kernelspec": {
   "display_name": "Python 3 (ipykernel)",
   "language": "python",
   "name": "python3"
  },
  "language_info": {
   "codemirror_mode": {
    "name": "ipython",
    "version": 3
   },
   "file_extension": ".py",
   "mimetype": "text/x-python",
   "name": "python",
   "nbconvert_exporter": "python",
   "pygments_lexer": "ipython3",
   "version": "3.12.7"
  }
 },
 "nbformat": 4,
 "nbformat_minor": 5
}
