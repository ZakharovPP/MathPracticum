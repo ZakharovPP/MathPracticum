{
 "cells": [
  {
   "cell_type": "markdown",
   "id": "f511716b-ff3b-4490-8b0d-2dcf56d31489",
   "metadata": {},
   "source": [
    "1. Создайте массив 10х10, заполненный в центре нулями, а по границе единицами."
   ]
  },
  {
   "cell_type": "code",
   "execution_count": 41,
   "id": "c9b9d77a-257f-4d28-afc1-05b52b3550c2",
   "metadata": {},
   "outputs": [
    {
     "name": "stdout",
     "output_type": "stream",
     "text": [
      "[[1 1 1 1 1 1 1 1 1 1]\n",
      " [1 0 0 0 0 0 0 0 0 1]\n",
      " [1 0 0 0 0 0 0 0 0 1]\n",
      " [1 0 0 0 0 0 0 0 0 1]\n",
      " [1 0 0 0 0 0 0 0 0 1]\n",
      " [1 0 0 0 0 0 0 0 0 1]\n",
      " [1 0 0 0 0 0 0 0 0 1]\n",
      " [1 0 0 0 0 0 0 0 0 1]\n",
      " [1 0 0 0 0 0 0 0 0 1]\n",
      " [1 1 1 1 1 1 1 1 1 1]]\n"
     ]
    }
   ],
   "source": [
    "import numpy as np\n",
    "result = np.fromfunction(lambda i,j: i*j*(9-i)*(9-j)==0, (10,10)).astype(int)\n",
    "print(result)"
   ]
  },
  {
   "cell_type": "markdown",
   "id": "f6b082d5-197e-4c5b-b8a8-08a94bb246ef",
   "metadata": {},
   "source": [
    "2. Создайте массив 8х8, заполненный 0 и 1 в шахматном порядке."
   ]
  },
  {
   "cell_type": "code",
   "execution_count": 39,
   "id": "509aa88f-681d-4dad-a407-88b189eccd6c",
   "metadata": {},
   "outputs": [
    {
     "name": "stdout",
     "output_type": "stream",
     "text": [
      "[[0 1 0 1 0 1 0 1]\n",
      " [1 0 1 0 1 0 1 0]\n",
      " [0 1 0 1 0 1 0 1]\n",
      " [1 0 1 0 1 0 1 0]\n",
      " [0 1 0 1 0 1 0 1]\n",
      " [1 0 1 0 1 0 1 0]\n",
      " [0 1 0 1 0 1 0 1]\n",
      " [1 0 1 0 1 0 1 0]]\n"
     ]
    }
   ],
   "source": [
    "result = np.fromfunction(lambda i,j: (i+j)%2, (8,8)).astype(int)\n",
    "print(result)"
   ]
  },
  {
   "cell_type": "markdown",
   "id": "b991b225-1be2-4ad3-8302-c1eef2fd1ddb",
   "metadata": {},
   "source": [
    "3. Создайте матрицу 5x5 со значениями 1,2,3,4 под главной диагональю. Остальные значения - нули"
   ]
  },
  {
   "cell_type": "code",
   "execution_count": 37,
   "id": "4b56dad6-c940-4dc6-b6b6-1a34e3173616",
   "metadata": {},
   "outputs": [
    {
     "name": "stdout",
     "output_type": "stream",
     "text": [
      "[[0 0 0 0 0]\n",
      " [1 0 0 0 0]\n",
      " [0 2 0 0 0]\n",
      " [0 0 3 0 0]\n",
      " [0 0 0 4 0]]\n"
     ]
    }
   ],
   "source": [
    "result = np.pad(np.diag(np.arange(1, 5)), ((1,0),(0,1)), mode=\"constant\")\n",
    "print(result)"
   ]
  },
  {
   "cell_type": "markdown",
   "id": "f651f126-44c8-4a48-8934-065b520c7741",
   "metadata": {},
   "source": [
    "4. Создайте случайный массив 5х5 и нормируйте его так, чтобы среднее вдоль каждой строки было равно нулю."
   ]
  },
  {
   "cell_type": "code",
   "execution_count": 35,
   "id": "92e50c84-1b00-4b71-8017-60cf573537c1",
   "metadata": {},
   "outputs": [
    {
     "name": "stdout",
     "output_type": "stream",
     "text": [
      "[[ 0.41607053 -0.13747637 -0.0916404   0.09215802 -0.27911178]\n",
      " [ 0.12570363  0.23524842 -0.26818775  0.03690584 -0.12967014]\n",
      " [-0.476449    0.21923715 -0.11864762  0.11895051  0.25690896]\n",
      " [-0.51132321  0.09874242  0.07715369  0.07851402  0.25691308]\n",
      " [ 0.11923064 -0.31294525  0.31133596 -0.2744984   0.15687704]]\n",
      "[-3.88578059e-16 -2.22044605e-16  1.66533454e-16  0.00000000e+00\n",
      "  2.22044605e-16]\n"
     ]
    }
   ],
   "source": [
    "a = (lambda A: A - A.sum(axis=1)[:, None]/5)(np.random.random((5, 5)))\n",
    "print(a)\n",
    "print(a.sum(axis=1)) #эта строчка просто как проверка, что среднее вдоль любой строки 0 (у нас величина порядка 10^-16)#"
   ]
  },
  {
   "cell_type": "markdown",
   "id": "e72f5c47-21e7-46c3-82ab-791b64b81d2f",
   "metadata": {},
   "source": [
    "5. Создайте двумерный массив 10x3, заполненный случайными числами от 0 до 1. В каждой строке выберите значение, наиболее близкое к 0.5."
   ]
  },
  {
   "cell_type": "code",
   "execution_count": 12,
   "id": "098d0f78-de78-4290-a6a2-345e31852ac0",
   "metadata": {},
   "outputs": [
    {
     "name": "stdout",
     "output_type": "stream",
     "text": [
      "[[0.95373969 0.17969638 0.50632528]\n",
      " [0.13123891 0.00793491 0.82981689]\n",
      " [0.38914799 0.9439477  0.93899028]\n",
      " [0.35882938 0.76320284 0.96403656]\n",
      " [0.08435236 0.08115875 0.20133578]\n",
      " [0.05424439 0.10431949 0.41106138]\n",
      " [0.9224521  0.70176029 0.28928839]\n",
      " [0.24617015 0.32830129 0.1390888 ]\n",
      " [0.18549339 0.8497936  0.49177958]\n",
      " [0.35593178 0.97291524 0.02066593]]\n",
      "[0.50632528 0.82981689 0.38914799 0.35882938 0.20133578 0.41106138\n",
      " 0.70176029 0.32830129 0.49177958 0.35593178]\n"
     ]
    }
   ],
   "source": [
    "x=np.random.random((10, 3))\n",
    "result = x[np.arange(x.shape[0]), np.argmin(abs(0.5-x), axis=1)]\n",
    "print(x)\n",
    "print(result)"
   ]
  },
  {
   "cell_type": "markdown",
   "id": "a17b39dc-0512-4ac6-997a-41f4ebf5fe9d",
   "metadata": {},
   "source": [
    "6. Создайте двумерный массив 6x6, заполненный случайными значениями. Сумму по каждой строке поделите на максимальный элемент из столбца с тем же индексом."
   ]
  },
  {
   "cell_type": "code",
   "execution_count": 31,
   "id": "5e013bd7-7f66-48d5-ad36-d03319e0e39d",
   "metadata": {},
   "outputs": [
    {
     "name": "stdout",
     "output_type": "stream",
     "text": [
      "[3.2881598  3.22807776 2.4584283  5.08277453 7.92000989 3.53216182]\n"
     ]
    }
   ],
   "source": [
    "result=(lambda a: a.sum(axis=1)/a.max(axis=0))(np.random.random((6, 6)))\n",
    "print(result)\n"
   ]
  },
  {
   "cell_type": "markdown",
   "id": "d71d7d41-942d-44a8-a14f-0bcd650191bc",
   "metadata": {},
   "source": [
    "7. На примере массива x = np.array([6, 2, 0, 3, 0, 0, 5, 7, 0]) найдите максимальный элемент в массиве среди элементов, перед которыми стоит ноль."
   ]
  },
  {
   "cell_type": "code",
   "execution_count": 20,
   "id": "9099f881-3d3a-45ed-aae3-fbcf1c6f975b",
   "metadata": {},
   "outputs": [
    {
     "name": "stdout",
     "output_type": "stream",
     "text": [
      "5\n"
     ]
    }
   ],
   "source": [
    "result = (lambda x: np.max(x[np.concatenate([[False], x[:-1] == 0])]))(np.array([6, 2, 0, 3, 0, 0, 5, 7, 0]))\n",
    "print(result)"
   ]
  },
  {
   "cell_type": "markdown",
   "id": "a4ac379f-dc0b-41a3-99f9-a1a28553e7a3",
   "metadata": {},
   "source": [
    "8.Пусть заданы два массива x = np.ones(10) и i = np.array([0, 1, 2, 3, 5, 5, 5, 8]). Прибавьте единицу к тем элементам массива x, индексы которых указаны в массиве i. В случае, если некоторый индекс встретился в массиве i несколько раз, прибавьте к соответствующему элементу массива x число вхождений данного индекса в массив i.\n",
    "\n"
   ]
  },
  {
   "cell_type": "code",
   "execution_count": 23,
   "id": "a12f62cc-f8cc-4740-9c9a-af5eb1124e45",
   "metadata": {},
   "outputs": [
    {
     "name": "stdout",
     "output_type": "stream",
     "text": [
      "[2 2 2 2 1 4 1 1 2 1]\n"
     ]
    }
   ],
   "source": [
    "x=np.ones(10)\n",
    "(lambda i: np.add.at(x, i, 1))(np.array([0, 1, 2, 3, 5, 5, 5, 8]))\n",
    "print(x.astype(int))"
   ]
  },
  {
   "cell_type": "markdown",
   "id": "d1fb1a18-eb94-49da-8ef6-01864fbd24a1",
   "metadata": {},
   "source": [
    "9. Задайте два массива a = np.array([[1, 4.9, 2.4], [7.1, 7, 9.8], [2, 4.6, 1.2]]) и b = np.array([3, 5, 10, 0]). Создайте массив, в котором каждый элемент первого массива заменен на ближайший к нему элемент второго массива."
   ]
  },
  {
   "cell_type": "code",
   "execution_count": 33,
   "id": "ac4c0837-2edf-4d28-8658-ab34e13a4c0c",
   "metadata": {},
   "outputs": [
    {
     "name": "stdout",
     "output_type": "stream",
     "text": [
      "[[ 0  5  3]\n",
      " [ 5  5 10]\n",
      " [ 3  5  0]]\n"
     ]
    }
   ],
   "source": [
    "a = np.array([[1, 4.9, 2.4], [7.1, 7, 9.8], [2, 4.6, 1.2]])\n",
    "b = np.array([3, 5, 10, 0])\n",
    "result=b[np.argmin(abs(a[:, :, np.newaxis]-b), axis=2)]\n",
    "print(result)"
   ]
  },
  {
   "cell_type": "markdown",
   "id": "e8a0d2b7-f85f-4727-b511-9de4e47b655c",
   "metadata": {},
   "source": [
    "10. Найдите скользящие средние с окном размера 3 по массиву a = np.array([1, 4.9, 2.4, 7.1, 7, 9.8, 2, -5, 4.6, 1.2])."
   ]
  },
  {
   "cell_type": "code",
   "execution_count": 29,
   "id": "cb91b165-af76-40bc-bd0c-94000007ad4d",
   "metadata": {},
   "outputs": [
    {
     "name": "stdout",
     "output_type": "stream",
     "text": [
      "[2.76666667 4.8        5.5        7.96666667 6.26666667 2.26666667\n",
      " 0.53333333 0.26666667]\n"
     ]
    }
   ],
   "source": [
    "result=np.convolve(np.array([1, 4.9, 2.4, 7.1, 7, 9.8, 2, -5, 4.6, 1.2]), [1/3, 1/3, 1/3], mode='valid')\n",
    "print(result)"
   ]
  },
  {
   "cell_type": "code",
   "execution_count": null,
   "id": "601565ee-3b92-4cf4-ae3c-9dd3e9ac5ebb",
   "metadata": {},
   "outputs": [],
   "source": []
  }
 ],
 "metadata": {
  "kernelspec": {
   "display_name": "Python 3 (ipykernel)",
   "language": "python",
   "name": "python3"
  },
  "language_info": {
   "codemirror_mode": {
    "name": "ipython",
    "version": 3
   },
   "file_extension": ".py",
   "mimetype": "text/x-python",
   "name": "python",
   "nbconvert_exporter": "python",
   "pygments_lexer": "ipython3",
   "version": "3.12.7"
  }
 },
 "nbformat": 4,
 "nbformat_minor": 5
}
